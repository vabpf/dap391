{
 "cells": [
  {
   "cell_type": "code",
   "execution_count": 3,
   "metadata": {},
   "outputs": [],
   "source": [
    "#imports here\n",
    "from selenium import webdriver\n",
    "# from selenium.webdriver import ActionChains\n",
    "from selenium.webdriver.edge.service import Service\n",
    "from selenium.webdriver.common.keys import Keys\n",
    "from selenium.webdriver.support import expected_conditions as EC\n",
    "from selenium.webdriver.common.by import By\n",
    "from selenium.webdriver.support.wait import WebDriverWait\n",
    "from selenium.webdriver.edge.options import Options\n",
    "# import time"
   ]
  },
  {
   "cell_type": "code",
   "execution_count": 50,
   "metadata": {},
   "outputs": [],
   "source": [
    "# edge_binary_path = \"C:\\Program Files (x86)\\Microsoft\\Edge\\Application\\msedge.exe\"\n",
    "\n",
    "# Configure Edge options\n",
    "options = Options()\n",
    "# options.binary_location = edge_binary_path\n",
    "options.add_argument(\"--inprivate\")\n",
    "options.add_argument(\"--disable-javascript\")\n",
    "options.add_experimental_option(\"excludeSwitches\", [\"enable-automation\"])\n",
    "# options.add_experimental_option('excludeSwitches', ['disable-popup-blocking'])\n",
    "\n",
    "# Use a Proxy\n",
    "# options.add_argument('--proxy-server=http://10.10.1.10:3128')\n",
    "\n",
    "# Create an instance of EdgeDriver\n",
    "service = Service(\"D:\\Apps\\msedgedriver.exe\")\n",
    "driver = webdriver.Edge(service=service, options=options)\n",
    "\n",
    "#open the webpage\n",
    "driver.get(\"https://shopee.vn/product/695581926/17309183256\")\n",
    "\n"
   ]
  },
  {
   "cell_type": "code",
   "execution_count": null,
   "metadata": {},
   "outputs": [],
   "source": []
  },
  {
   "cell_type": "code",
   "execution_count": 2,
   "metadata": {},
   "outputs": [],
   "source": [
    "# Configure Edge options\n",
    "options = Options()\n",
    "# options.add_argument(\"--inprivate\")\n",
    "options.add_argument(\"--disable-javascript\")\n",
    "options.add_experimental_option(\"excludeSwitches\", [\"enable-automation\"])\n",
    "\n",
    "# Create an instance of EdgeDriver\n",
    "service = Service(\"D:\\Apps\\msedgedriver.exe\")\n",
    "driver = webdriver.Edge(service=service, options=options)\n",
    "\n",
    "# Navigate to the login page\n",
    "driver.get(\"https://shopee.vn/buyer/login\")"
   ]
  },
  {
   "cell_type": "code",
   "execution_count": null,
   "metadata": {},
   "outputs": [],
   "source": [
    "# # Assume the username field has id 'username' and password field has id 'password'\n",
    "# username_field = driver.find_element(By.CSS_SELECTOR, 'input[name=\"loginKey\"]')\n",
    "# password_field = driver.find_element(By.CSS_SELECTOR, 'input[name=\"password\"]')\n",
    "\n",
    "# # Fill the login form\n",
    "# username_field.send_keys('...')\n",
    "# password_field.send_keys('...')\n",
    "\n",
    "# # Assume the login button has id 'login-button'\n",
    "# login_button = driver.find_element(By.XPATH, '//button[text()=\"Đăng nhập\"]')\n",
    "\n",
    "# # Click the login button\n",
    "# login_button.click()"
   ]
  },
  {
   "cell_type": "code",
   "execution_count": 8,
   "metadata": {},
   "outputs": [
    {
     "ename": "error",
     "evalue": "b'[AUTHENTICATIONFAILED] Invalid credentials (Failure)'",
     "output_type": "error",
     "traceback": [
      "\u001b[1;31m---------------------------------------------------------------------------\u001b[0m",
      "\u001b[1;31merror\u001b[0m                                     Traceback (most recent call last)",
      "Cell \u001b[1;32mIn[8], line 9\u001b[0m\n\u001b[0;32m      6\u001b[0m mail \u001b[38;5;241m=\u001b[39m imaplib\u001b[38;5;241m.\u001b[39mIMAP4_SSL(\u001b[38;5;124m\"\u001b[39m\u001b[38;5;124mimap.gmail.com\u001b[39m\u001b[38;5;124m\"\u001b[39m)\n\u001b[0;32m      8\u001b[0m \u001b[38;5;66;03m# Login to your email account\u001b[39;00m\n\u001b[1;32m----> 9\u001b[0m \u001b[43mmail\u001b[49m\u001b[38;5;241;43m.\u001b[39;49m\u001b[43mlogin\u001b[49m\u001b[43m(\u001b[49m\u001b[38;5;124;43m\"\u001b[39;49m\u001b[38;5;124;43mvuonganhbinh25@gmail.com\u001b[39;49m\u001b[38;5;124;43m\"\u001b[39;49m\u001b[43m,\u001b[49m\u001b[43m \u001b[49m\u001b[38;5;124;43m\"\u001b[39;49m\u001b[38;5;124;43manhbinh123\u001b[39;49m\u001b[38;5;124;43m\"\u001b[39;49m\u001b[43m)\u001b[49m\n\u001b[0;32m     11\u001b[0m \u001b[38;5;66;03m# Select the mailbox you want to check\u001b[39;00m\n\u001b[0;32m     12\u001b[0m mail\u001b[38;5;241m.\u001b[39mselect(\u001b[38;5;124m\"\u001b[39m\u001b[38;5;124minbox\u001b[39m\u001b[38;5;124m\"\u001b[39m)\n",
      "File \u001b[1;32mc:\\Users\\admin\\AppData\\Local\\Programs\\Python\\Python311\\Lib\\imaplib.py:612\u001b[0m, in \u001b[0;36mIMAP4.login\u001b[1;34m(self, user, password)\u001b[0m\n\u001b[0;32m    610\u001b[0m typ, dat \u001b[38;5;241m=\u001b[39m \u001b[38;5;28mself\u001b[39m\u001b[38;5;241m.\u001b[39m_simple_command(\u001b[38;5;124m'\u001b[39m\u001b[38;5;124mLOGIN\u001b[39m\u001b[38;5;124m'\u001b[39m, user, \u001b[38;5;28mself\u001b[39m\u001b[38;5;241m.\u001b[39m_quote(password))\n\u001b[0;32m    611\u001b[0m \u001b[38;5;28;01mif\u001b[39;00m typ \u001b[38;5;241m!=\u001b[39m \u001b[38;5;124m'\u001b[39m\u001b[38;5;124mOK\u001b[39m\u001b[38;5;124m'\u001b[39m:\n\u001b[1;32m--> 612\u001b[0m     \u001b[38;5;28;01mraise\u001b[39;00m \u001b[38;5;28mself\u001b[39m\u001b[38;5;241m.\u001b[39merror(dat[\u001b[38;5;241m-\u001b[39m\u001b[38;5;241m1\u001b[39m])\n\u001b[0;32m    613\u001b[0m \u001b[38;5;28mself\u001b[39m\u001b[38;5;241m.\u001b[39mstate \u001b[38;5;241m=\u001b[39m \u001b[38;5;124m'\u001b[39m\u001b[38;5;124mAUTH\u001b[39m\u001b[38;5;124m'\u001b[39m\n\u001b[0;32m    614\u001b[0m \u001b[38;5;28;01mreturn\u001b[39;00m typ, dat\n",
      "\u001b[1;31merror\u001b[0m: b'[AUTHENTICATIONFAILED] Invalid credentials (Failure)'"
     ]
    }
   ],
   "source": [
    "\n",
    "import imaplib\n",
    "import email\n",
    "from email.header import decode_header\n",
    "\n",
    "# Connect to the mail server\n",
    "mail = imaplib.IMAP4_SSL(\"imap.gmail.com\")\n",
    "\n",
    "# Login to your email account\n",
    "mail.login(...)\n",
    "\n",
    "# Select the mailbox you want to check\n",
    "mail.select(\"inbox\")\n",
    "\n",
    "# Search for specific mail by sender\n",
    "result, data = mail.uid('search', None, '(FROM \"info@mail.shopee.vn\")')\n",
    "email_ids = data[0].split()\n",
    "\n",
    "# Get the most recent email from the list\n",
    "result, data = mail.uid('fetch', email_ids[-1], '(BODY.PEEK[TEXT])')\n",
    "\n",
    "raw_email = data[0][1].decode(\"utf-8\")\n",
    "email_message = email.message_from_string(raw_email)\n",
    "\n",
    "# If the email is multipart\n",
    "if email_message.is_multipart():\n",
    "    for payload in email_message.get_payload():\n",
    "        # If the payload is text/plain, we want to read it\n",
    "        if payload.get_content_type() == 'text/plain':\n",
    "            print(payload.get_payload())\n",
    "else:\n",
    "    # If the email isn't multipart\n",
    "    print(email_message.get_payload())"
   ]
  },
  {
   "cell_type": "code",
   "execution_count": null,
   "metadata": {},
   "outputs": [],
   "source": [
    "\n"
   ]
  }
 ],
 "metadata": {
  "kernelspec": {
   "display_name": "Python 3",
   "language": "python",
   "name": "python3"
  },
  "language_info": {
   "codemirror_mode": {
    "name": "ipython",
    "version": 3
   },
   "file_extension": ".py",
   "mimetype": "text/x-python",
   "name": "python",
   "nbconvert_exporter": "python",
   "pygments_lexer": "ipython3",
   "version": "3.11.3"
  }
 },
 "nbformat": 4,
 "nbformat_minor": 2
}
